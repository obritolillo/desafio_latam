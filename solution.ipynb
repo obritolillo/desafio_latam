{
 "cells": [
  {
   "cell_type": "code",
   "execution_count": 1,
   "id": "6c84c4c9-9f58-4927-bd9b-da0d5749a662",
   "metadata": {},
   "outputs": [],
   "source": [
    "import pandas as pd\n",
    "import numpy as np\n",
    "import matplotlib.pyplot as plt\n",
    "\n",
    "import warnings\n",
    "warnings.filterwarnings(\"ignore\")"
   ]
  },
  {
   "cell_type": "markdown",
   "id": "a63fd18e-1835-477d-8625-e86a7f13ecdc",
   "metadata": {},
   "source": [
    "# Descripción de cada varaible\n",
    "<ol>\n",
    "<li> Fecha-I : Fecha y hora programada del vuelo. </li>\n",
    "<li> Vlo-I : Número de vuelo programado. </li>\n",
    "<li> Ori-I : Código de ciudad de origen programado. </li>\n",
    "<li> Des-I : Código de ciudad de destino programado. </li>\n",
    "<li> Emp-I : Código aerolínea de vuelo programado. </li>\n",
    "<li> Fecha-O : Fecha y hora de operación del vuelo. </li>\n",
    "<li> Vlo-O : Número de vuelo de operación del vuelo. </li>\n",
    "<li> Ori-O : Código de ciudad de origen de operación </li>\n",
    "<li> Des-O : Código de ciudad de destino de operación. </li>\n",
    "<li> Emp-O : Código aerolínea de vuelo operado. </li>\n",
    "<li> DIA : Día del mes de operación del vuelo. </li>\n",
    "<li> MES : Número de mes de operación del vuelo. </li>\n",
    "<li> AÑO : Año de operación del vuelo. </li>\n",
    "<li> DIANOM : Día de la semana de operación del vuelo. </li>\n",
    "<li> TIPOVUELO : Tipo de vuelo, I =Internacional, N =Nacional. </li>\n",
    "<li> OPERA : Nombre de aerolínea que opera. </li>\n",
    "<li> SIGLAORI : Nombre ciudad origen. </li>\n",
    "<li> SIGLADES : Nombre ciudad destino. </li>\n",
    "</ol>"
   ]
  },
  {
   "cell_type": "code",
   "execution_count": 2,
   "id": "9c67d5ea-82ed-4983-a3e4-cab2b5a9987e",
   "metadata": {},
   "outputs": [],
   "source": [
    "path = 'agregar ruta del directorio'\n",
    "\n",
    "df_latam = pd.read_csv(path + '/datos/dataset_SCL.csv')\n",
    "\n",
    "# Convertimos todos los nombres de las variables en minusculas\n",
    "names_columns = []\n",
    "for name in df_latam.columns:\n",
    "    names_columns = names_columns + [name.lower()]\n",
    "\n",
    "df_latam.columns = names_columns"
   ]
  },
  {
   "cell_type": "code",
   "execution_count": 3,
   "id": "6915e1b0-497c-4c5e-a2ab-22de2ea5772e",
   "metadata": {},
   "outputs": [
    {
     "data": {
      "text/plain": [
       "(68206, 18)"
      ]
     },
     "execution_count": 3,
     "metadata": {},
     "output_type": "execute_result"
    }
   ],
   "source": [
    "df_latam.shape"
   ]
  },
  {
   "cell_type": "code",
   "execution_count": 4,
   "id": "a093afbf-d5c3-47c6-89a9-fb8c3267f1d8",
   "metadata": {},
   "outputs": [
    {
     "data": {
      "text/html": [
       "<div>\n",
       "<style scoped>\n",
       "    .dataframe tbody tr th:only-of-type {\n",
       "        vertical-align: middle;\n",
       "    }\n",
       "\n",
       "    .dataframe tbody tr th {\n",
       "        vertical-align: top;\n",
       "    }\n",
       "\n",
       "    .dataframe thead th {\n",
       "        text-align: right;\n",
       "    }\n",
       "</style>\n",
       "<table border=\"1\" class=\"dataframe\">\n",
       "  <thead>\n",
       "    <tr style=\"text-align: right;\">\n",
       "      <th></th>\n",
       "      <th>fecha-i</th>\n",
       "      <th>vlo-i</th>\n",
       "      <th>ori-i</th>\n",
       "      <th>des-i</th>\n",
       "      <th>emp-i</th>\n",
       "      <th>fecha-o</th>\n",
       "      <th>vlo-o</th>\n",
       "      <th>ori-o</th>\n",
       "      <th>des-o</th>\n",
       "      <th>emp-o</th>\n",
       "      <th>dia</th>\n",
       "      <th>mes</th>\n",
       "      <th>año</th>\n",
       "      <th>dianom</th>\n",
       "      <th>tipovuelo</th>\n",
       "      <th>opera</th>\n",
       "      <th>siglaori</th>\n",
       "      <th>siglades</th>\n",
       "    </tr>\n",
       "  </thead>\n",
       "  <tbody>\n",
       "    <tr>\n",
       "      <th>0</th>\n",
       "      <td>2017-01-01 23:30:00</td>\n",
       "      <td>226</td>\n",
       "      <td>SCEL</td>\n",
       "      <td>KMIA</td>\n",
       "      <td>AAL</td>\n",
       "      <td>2017-01-01 23:33:00</td>\n",
       "      <td>226</td>\n",
       "      <td>SCEL</td>\n",
       "      <td>KMIA</td>\n",
       "      <td>AAL</td>\n",
       "      <td>1</td>\n",
       "      <td>1</td>\n",
       "      <td>2017</td>\n",
       "      <td>Domingo</td>\n",
       "      <td>I</td>\n",
       "      <td>American Airlines</td>\n",
       "      <td>Santiago</td>\n",
       "      <td>Miami</td>\n",
       "    </tr>\n",
       "    <tr>\n",
       "      <th>1</th>\n",
       "      <td>2017-01-02 23:30:00</td>\n",
       "      <td>226</td>\n",
       "      <td>SCEL</td>\n",
       "      <td>KMIA</td>\n",
       "      <td>AAL</td>\n",
       "      <td>2017-01-02 23:39:00</td>\n",
       "      <td>226</td>\n",
       "      <td>SCEL</td>\n",
       "      <td>KMIA</td>\n",
       "      <td>AAL</td>\n",
       "      <td>2</td>\n",
       "      <td>1</td>\n",
       "      <td>2017</td>\n",
       "      <td>Lunes</td>\n",
       "      <td>I</td>\n",
       "      <td>American Airlines</td>\n",
       "      <td>Santiago</td>\n",
       "      <td>Miami</td>\n",
       "    </tr>\n",
       "    <tr>\n",
       "      <th>2</th>\n",
       "      <td>2017-01-03 23:30:00</td>\n",
       "      <td>226</td>\n",
       "      <td>SCEL</td>\n",
       "      <td>KMIA</td>\n",
       "      <td>AAL</td>\n",
       "      <td>2017-01-03 23:39:00</td>\n",
       "      <td>226</td>\n",
       "      <td>SCEL</td>\n",
       "      <td>KMIA</td>\n",
       "      <td>AAL</td>\n",
       "      <td>3</td>\n",
       "      <td>1</td>\n",
       "      <td>2017</td>\n",
       "      <td>Martes</td>\n",
       "      <td>I</td>\n",
       "      <td>American Airlines</td>\n",
       "      <td>Santiago</td>\n",
       "      <td>Miami</td>\n",
       "    </tr>\n",
       "    <tr>\n",
       "      <th>3</th>\n",
       "      <td>2017-01-04 23:30:00</td>\n",
       "      <td>226</td>\n",
       "      <td>SCEL</td>\n",
       "      <td>KMIA</td>\n",
       "      <td>AAL</td>\n",
       "      <td>2017-01-04 23:33:00</td>\n",
       "      <td>226</td>\n",
       "      <td>SCEL</td>\n",
       "      <td>KMIA</td>\n",
       "      <td>AAL</td>\n",
       "      <td>4</td>\n",
       "      <td>1</td>\n",
       "      <td>2017</td>\n",
       "      <td>Miercoles</td>\n",
       "      <td>I</td>\n",
       "      <td>American Airlines</td>\n",
       "      <td>Santiago</td>\n",
       "      <td>Miami</td>\n",
       "    </tr>\n",
       "    <tr>\n",
       "      <th>4</th>\n",
       "      <td>2017-01-05 23:30:00</td>\n",
       "      <td>226</td>\n",
       "      <td>SCEL</td>\n",
       "      <td>KMIA</td>\n",
       "      <td>AAL</td>\n",
       "      <td>2017-01-05 23:28:00</td>\n",
       "      <td>226</td>\n",
       "      <td>SCEL</td>\n",
       "      <td>KMIA</td>\n",
       "      <td>AAL</td>\n",
       "      <td>5</td>\n",
       "      <td>1</td>\n",
       "      <td>2017</td>\n",
       "      <td>Jueves</td>\n",
       "      <td>I</td>\n",
       "      <td>American Airlines</td>\n",
       "      <td>Santiago</td>\n",
       "      <td>Miami</td>\n",
       "    </tr>\n",
       "  </tbody>\n",
       "</table>\n",
       "</div>"
      ],
      "text/plain": [
       "               fecha-i vlo-i ori-i des-i emp-i              fecha-o vlo-o  \\\n",
       "0  2017-01-01 23:30:00   226  SCEL  KMIA   AAL  2017-01-01 23:33:00   226   \n",
       "1  2017-01-02 23:30:00   226  SCEL  KMIA   AAL  2017-01-02 23:39:00   226   \n",
       "2  2017-01-03 23:30:00   226  SCEL  KMIA   AAL  2017-01-03 23:39:00   226   \n",
       "3  2017-01-04 23:30:00   226  SCEL  KMIA   AAL  2017-01-04 23:33:00   226   \n",
       "4  2017-01-05 23:30:00   226  SCEL  KMIA   AAL  2017-01-05 23:28:00   226   \n",
       "\n",
       "  ori-o des-o emp-o  dia  mes   año     dianom tipovuelo              opera  \\\n",
       "0  SCEL  KMIA   AAL    1    1  2017    Domingo         I  American Airlines   \n",
       "1  SCEL  KMIA   AAL    2    1  2017      Lunes         I  American Airlines   \n",
       "2  SCEL  KMIA   AAL    3    1  2017     Martes         I  American Airlines   \n",
       "3  SCEL  KMIA   AAL    4    1  2017  Miercoles         I  American Airlines   \n",
       "4  SCEL  KMIA   AAL    5    1  2017     Jueves         I  American Airlines   \n",
       "\n",
       "   siglaori siglades  \n",
       "0  Santiago    Miami  \n",
       "1  Santiago    Miami  \n",
       "2  Santiago    Miami  \n",
       "3  Santiago    Miami  \n",
       "4  Santiago    Miami  "
      ]
     },
     "execution_count": 4,
     "metadata": {},
     "output_type": "execute_result"
    }
   ],
   "source": [
    "df_latam.head()"
   ]
  },
  {
   "cell_type": "markdown",
   "id": "bd3fac39-c587-4641-8f2e-3627912ab29a",
   "metadata": {},
   "source": [
    "# Genera las columnas adicionales y luego expórtelas en un archivo synthetic_features.csv :\n",
    "<ol>\n",
    "<li> temporada_alta: 1 si Fecha-I está entre 15-Dic y 3-Mar, o 15-Jul y 31-Jul, o 11-Sep y 30-Sep, 0 si no.</li>\n",
    "<li> dif_min: diferencia en minutos entre Fecha-O y Fecha-I .</li>\n",
    "<li> atraso_15: 1 si dif_min > 15, 0 si no.</li>\n",
    "<li> periodo_dia: mañana (entre 5:00 y 11:59), tarde (entre 12:00 y 18:59) y noche (entre 19:00 y 4:59), en base a Fecha-I .</li>\n",
    "</ol>"
   ]
  },
  {
   "cell_type": "code",
   "execution_count": 5,
   "id": "96c47bde-dd93-4d20-9170-077cc56bddeb",
   "metadata": {},
   "outputs": [],
   "source": [
    "# Llevamos las variables fecha-i y fecha-o a un de formato fecha\n",
    "df_latam['fecha-i'] = pd.to_datetime(df_latam['fecha-i'],format='%Y-%m-%d')\n",
    "df_latam['fecha-o'] = pd.to_datetime(df_latam['fecha-o'],format='%Y-%m-%d')"
   ]
  },
  {
   "cell_type": "code",
   "execution_count": 6,
   "id": "32d1555e-3b3b-4c1e-be86-55354ac53ac9",
   "metadata": {},
   "outputs": [],
   "source": [
    "# Construccion de la variable temporada alta\n",
    "df_latam.loc[(df_latam['mes'] == 7) & (df_latam['dia'] >= 15) & (df_latam['dia'] <= 31), \"temporada_alta\"] = 1\n",
    "df_latam.loc[(df_latam['mes'] == 9) & (df_latam['dia'] >= 11) & (df_latam['dia'] <= 30), \"temporada_alta\"] = 1\n",
    "df_latam.loc[(df_latam['mes'] >= 1) & (df_latam['mes'] <= 2), \"temporada_alta\"] = 1\n",
    "df_latam.loc[(df_latam['mes'] == 12) & (df_latam['dia'] >= 15), \"temporada_alta\"] = 1\n",
    "df_latam.loc[(df_latam['mes'] == 3) & (df_latam['dia'] <= 3), \"temporada_alta\"] = 1\n",
    "df_latam['temporada_alta'] = df_latam['temporada_alta'].fillna(0)"
   ]
  },
  {
   "cell_type": "code",
   "execution_count": 7,
   "id": "d8147c73-57e2-4a6d-a995-94f028e731b2",
   "metadata": {},
   "outputs": [],
   "source": [
    "# Construccion de la variable diferencia en minutos\n",
    "df_latam['dif_min'] = (df_latam['fecha-o']- df_latam['fecha-i'])/pd.Timedelta(minutes=1)"
   ]
  },
  {
   "cell_type": "code",
   "execution_count": 8,
   "id": "9f842745-2582-4f2b-aa02-40732f406e44",
   "metadata": {},
   "outputs": [],
   "source": [
    "# Construccion de la variable que nos indica si el vuelo sufrio retraso\n",
    "df_latam.loc[(df_latam['dif_min'] > 15), \"atraso_15\"] = 1\n",
    "df_latam['atraso_15'] = df_latam['atraso_15'].fillna(0)"
   ]
  },
  {
   "cell_type": "code",
   "execution_count": 9,
   "id": "2f872d62-f7ec-422f-95ae-b86be9da154e",
   "metadata": {},
   "outputs": [],
   "source": [
    "# # Construccion de la variable que nos indica el periodo del dia\n",
    "df_latam['hour'] = df_latam['fecha-i'].dt.hour\n",
    "df_latam.loc[(df_latam['hour'] >= 5) & (df_latam['hour'] < 12) , \"periodo_dia\"] = \"mañana\"\n",
    "df_latam.loc[(df_latam['hour'] >= 12) & (df_latam['hour'] < 19) , \"periodo_dia\"] = \"tarde\"\n",
    "df_latam['periodo_dia'] = df_latam['periodo_dia'].fillna(\"noche\")\n",
    "df_latam = df_latam.drop(columns=['hour'])"
   ]
  },
  {
   "cell_type": "code",
   "execution_count": 10,
   "id": "f25317f9-8cbf-4aeb-a0e7-e2b83e5da446",
   "metadata": {},
   "outputs": [
    {
     "data": {
      "text/plain": [
       "(68206, 22)"
      ]
     },
     "execution_count": 10,
     "metadata": {},
     "output_type": "execute_result"
    }
   ],
   "source": [
    "df_latam.shape"
   ]
  },
  {
   "cell_type": "code",
   "execution_count": 11,
   "id": "794d8e76-f719-4316-8dcf-9834ba8c1263",
   "metadata": {},
   "outputs": [
    {
     "data": {
      "text/html": [
       "<div>\n",
       "<style scoped>\n",
       "    .dataframe tbody tr th:only-of-type {\n",
       "        vertical-align: middle;\n",
       "    }\n",
       "\n",
       "    .dataframe tbody tr th {\n",
       "        vertical-align: top;\n",
       "    }\n",
       "\n",
       "    .dataframe thead th {\n",
       "        text-align: right;\n",
       "    }\n",
       "</style>\n",
       "<table border=\"1\" class=\"dataframe\">\n",
       "  <thead>\n",
       "    <tr style=\"text-align: right;\">\n",
       "      <th></th>\n",
       "      <th>dia</th>\n",
       "      <th>mes</th>\n",
       "      <th>año</th>\n",
       "      <th>dianom</th>\n",
       "      <th>tipovuelo</th>\n",
       "      <th>opera</th>\n",
       "      <th>siglaori</th>\n",
       "      <th>siglades</th>\n",
       "      <th>temporada_alta</th>\n",
       "      <th>dif_min</th>\n",
       "      <th>atraso_15</th>\n",
       "      <th>periodo_dia</th>\n",
       "    </tr>\n",
       "  </thead>\n",
       "  <tbody>\n",
       "    <tr>\n",
       "      <th>0</th>\n",
       "      <td>1</td>\n",
       "      <td>1</td>\n",
       "      <td>2017</td>\n",
       "      <td>Domingo</td>\n",
       "      <td>I</td>\n",
       "      <td>American Airlines</td>\n",
       "      <td>Santiago</td>\n",
       "      <td>Miami</td>\n",
       "      <td>1.0</td>\n",
       "      <td>3.0</td>\n",
       "      <td>0.0</td>\n",
       "      <td>noche</td>\n",
       "    </tr>\n",
       "    <tr>\n",
       "      <th>1</th>\n",
       "      <td>2</td>\n",
       "      <td>1</td>\n",
       "      <td>2017</td>\n",
       "      <td>Lunes</td>\n",
       "      <td>I</td>\n",
       "      <td>American Airlines</td>\n",
       "      <td>Santiago</td>\n",
       "      <td>Miami</td>\n",
       "      <td>1.0</td>\n",
       "      <td>9.0</td>\n",
       "      <td>0.0</td>\n",
       "      <td>noche</td>\n",
       "    </tr>\n",
       "    <tr>\n",
       "      <th>2</th>\n",
       "      <td>3</td>\n",
       "      <td>1</td>\n",
       "      <td>2017</td>\n",
       "      <td>Martes</td>\n",
       "      <td>I</td>\n",
       "      <td>American Airlines</td>\n",
       "      <td>Santiago</td>\n",
       "      <td>Miami</td>\n",
       "      <td>1.0</td>\n",
       "      <td>9.0</td>\n",
       "      <td>0.0</td>\n",
       "      <td>noche</td>\n",
       "    </tr>\n",
       "    <tr>\n",
       "      <th>3</th>\n",
       "      <td>4</td>\n",
       "      <td>1</td>\n",
       "      <td>2017</td>\n",
       "      <td>Miercoles</td>\n",
       "      <td>I</td>\n",
       "      <td>American Airlines</td>\n",
       "      <td>Santiago</td>\n",
       "      <td>Miami</td>\n",
       "      <td>1.0</td>\n",
       "      <td>3.0</td>\n",
       "      <td>0.0</td>\n",
       "      <td>noche</td>\n",
       "    </tr>\n",
       "    <tr>\n",
       "      <th>4</th>\n",
       "      <td>5</td>\n",
       "      <td>1</td>\n",
       "      <td>2017</td>\n",
       "      <td>Jueves</td>\n",
       "      <td>I</td>\n",
       "      <td>American Airlines</td>\n",
       "      <td>Santiago</td>\n",
       "      <td>Miami</td>\n",
       "      <td>1.0</td>\n",
       "      <td>-2.0</td>\n",
       "      <td>0.0</td>\n",
       "      <td>noche</td>\n",
       "    </tr>\n",
       "  </tbody>\n",
       "</table>\n",
       "</div>"
      ],
      "text/plain": [
       "   dia  mes   año     dianom tipovuelo              opera  siglaori siglades  \\\n",
       "0    1    1  2017    Domingo         I  American Airlines  Santiago    Miami   \n",
       "1    2    1  2017      Lunes         I  American Airlines  Santiago    Miami   \n",
       "2    3    1  2017     Martes         I  American Airlines  Santiago    Miami   \n",
       "3    4    1  2017  Miercoles         I  American Airlines  Santiago    Miami   \n",
       "4    5    1  2017     Jueves         I  American Airlines  Santiago    Miami   \n",
       "\n",
       "   temporada_alta  dif_min  atraso_15 periodo_dia  \n",
       "0             1.0      3.0        0.0       noche  \n",
       "1             1.0      9.0        0.0       noche  \n",
       "2             1.0      9.0        0.0       noche  \n",
       "3             1.0      3.0        0.0       noche  \n",
       "4             1.0     -2.0        0.0       noche  "
      ]
     },
     "execution_count": 11,
     "metadata": {},
     "output_type": "execute_result"
    }
   ],
   "source": [
    "nuevo_df_latam = df_latam[df_latam.columns[10:]]\n",
    "nuevo_df_latam.head()"
   ]
  },
  {
   "cell_type": "code",
   "execution_count": 12,
   "id": "4c3caa46-7f4a-47ea-9757-31cef4259302",
   "metadata": {},
   "outputs": [],
   "source": [
    "nuevo_df_latam.to_csv(path + '/repositorio/desafio_latam/synthetic_features.csv', index=False, sep = \",\", decimal = \".\", header = True, encoding= 'utf-8')"
   ]
  },
  {
   "cell_type": "markdown",
   "id": "1ad37c2a-9cdd-4623-9660-82c3134f1613",
   "metadata": {},
   "source": [
    "# ¿Cómo se compone la tasa de atraso por destino, aerolínea, mes del año, día de la semana, temporada, tipo de vuelo?\n",
    "<ol>\n",
    "<li> siglades ==>         destino </li>\n",
    "<li> opera ==>            aerolínea </li>\n",
    "<li> mes ==>              mes del año </li>\n",
    "<li> dianom ==>           día de la semana </li>\n",
    "<li> temporada_alta ==>   temporada </li>\n",
    "<li> tipovuelo ==>        tipo de vuelo </li>\n",
    "<ol>"
   ]
  },
  {
   "cell_type": "code",
   "execution_count": 13,
   "id": "8dabc8b1-3a93-4b5e-a5ec-b3e22118d0f9",
   "metadata": {},
   "outputs": [],
   "source": [
    "#Se definen las funciones que seran utilizadas mas adelante\n",
    "def calculo_tasa_atrasos(df, nombre_variable:str, name_target:str, nambre_variable_tasa:str):\n",
    "    all_categorias = df[[nombre_variable]].drop_duplicates().reset_index(drop=True)\n",
    "\n",
    "    df_agrup = df.groupby([nombre_variable, name_target]).agg({name_target: ['count']})\n",
    "    df_agrup.columns = ['q']\n",
    "    df_agrup = df_agrup.reset_index()\n",
    "    df_agrup['total'] = df_agrup.groupby([nombre_variable])['q'].transform('sum')\n",
    "\n",
    "    df_atrasos = df_agrup[df_agrup[name_target] == 1].reset_index(drop=True)\n",
    "    df_atrasos[nambre_variable_tasa] = round(df_atrasos['q']/df_atrasos['total'], 2)\n",
    "\n",
    "    all_categorias = all_categorias.join(df_atrasos[[nombre_variable, nambre_variable_tasa]].set_index(nombre_variable), on=nombre_variable)\n",
    "    all_categorias[nambre_variable_tasa] = all_categorias[nambre_variable_tasa].fillna(0)\n",
    "    return all_categorias\n",
    "\n",
    "def graficas_tasas(df, string_titulo:str):\n",
    "    var_x = df.columns[0]\n",
    "    var_y = df.columns[1]\n",
    "\n",
    "    fig = plt.subplots(figsize =(14, 6))\n",
    "    x = df[var_x]\n",
    "    y = df[var_y]\n",
    "    p = plt.bar(x, y)\n",
    "    plt.xticks(rotation = 90)\n",
    "    plt.title(\"Tasa de atraso por \" + string_titulo)\n",
    "    plt.ylabel('Tasa de atraso')\n",
    "    return(plt.show())"
   ]
  },
  {
   "cell_type": "code",
   "execution_count": 14,
   "id": "20cd127b-5758-49be-a23f-f11583b4dbf2",
   "metadata": {},
   "outputs": [],
   "source": [
    "# Se calculan las tasas de atraso por cada una de las variables\n",
    "df_tasa_atraso_destino = calculo_tasa_atrasos(df_latam, 'siglades', 'atraso_15', 'tasas_atrasos_destino')\n",
    "df_tasa_atraso_aerolinea = calculo_tasa_atrasos(df_latam, 'opera', 'atraso_15', 'tasas_atraso_aerolinea')\n",
    "df_tasa_atraso_mes = calculo_tasa_atrasos(df_latam, 'mes', 'atraso_15', 'tasas_atrasos_mes')\n",
    "df_tasa_atraso_dia_semana = calculo_tasa_atrasos(df_latam, 'dianom', 'atraso_15', 'tasas_atrasos_dia_semana')\n",
    "df_tasa_atraso_temporada = calculo_tasa_atrasos(df_latam, 'temporada_alta', 'atraso_15', 'tasas_atrasos_temporada')\n",
    "df_tasa_atraso_tipo_vuelo = calculo_tasa_atrasos(df_latam, 'tipovuelo', 'atraso_15', 'tasas_atrasos_tipo_vuelo')"
   ]
  },
  {
   "cell_type": "markdown",
   "id": "04ef8361-c79f-4050-8dbd-bd39cc0c92c9",
   "metadata": {},
   "source": [
    "# Tasa de Atrasos por Destinos"
   ]
  },
  {
   "cell_type": "code",
   "execution_count": 15,
   "id": "dc2bbc19-1fcb-4f31-801c-ae5f28b661ab",
   "metadata": {},
   "outputs": [
    {
     "data": {
      "image/png": "[encoded data removed]",
      "text/plain": [
       "<Figure size 1008x432 with 1 Axes>"
      ]
     },
     "metadata": {
      "needs_background": "light"
     },
     "output_type": "display_data"
    }
   ],
   "source": [
    "graficas_tasas(df_tasa_atraso_destino, 'destinos')"
   ]
  },
  {
   "cell_type": "markdown",
   "id": "60cc3630-8338-456b-a3a1-98f31749f877",
   "metadata": {},
   "source": [
    "# Tasa de Atrasos por Aerolíneas"
   ]
  },
  {
   "cell_type": "code",
   "execution_count": 16,
   "id": "b87a7540-6a44-418e-8011-42bde52c559b",
   "metadata": {},
   "outputs": [
    {
     "data": {
      "image/png": "[encoded data removed]",
      "text/plain": [
       "<Figure size 1008x432 with 1 Axes>"
      ]
     },
     "metadata": {
      "needs_background": "light"
     },
     "output_type": "display_data"
    }
   ],
   "source": [
    "graficas_tasas(df_tasa_atraso_aerolinea, 'aerolíneas')"
   ]
  },
  {
   "cell_type": "markdown",
   "id": "e2acb17b-feef-4e3c-9f33-709cf1091284",
   "metadata": {},
   "source": [
    "# Tasa de Atrasos por Meses del Año"
   ]
  },
  {
   "cell_type": "code",
   "execution_count": 17,
   "id": "e2d00f7c-79f7-4ed3-a93a-8fe353e42a0f",
   "metadata": {},
   "outputs": [
    {
     "data": {
      "image/png": "[encoded data removed]",
      "text/plain": [
       "<Figure size 1008x432 with 1 Axes>"
      ]
     },
     "metadata": {
      "needs_background": "light"
     },
     "output_type": "display_data"
    }
   ],
   "source": [
    "nombres_meses = ['Enero', 'Febrero', 'Marzo', 'Abril', 'Mayo', 'Junio', 'Julio', 'Agosto', 'Septiembre', 'Octubre', 'Noviembre', 'Diciembre']\n",
    "for i in range(12):\n",
    "    df_tasa_atraso_mes.loc[df_tasa_atraso_mes['mes'] == i+1, 'nombre_meses'] = nombres_meses[i]\n",
    "df_tasa_atraso_mes = df_tasa_atraso_mes[['nombre_meses', 'tasas_atrasos_mes', 'mes']]\n",
    "graficas_tasas(df_tasa_atraso_mes, 'meses del año')"
   ]
  },
  {
   "cell_type": "markdown",
   "id": "52f05dc5-96da-49dc-9ed2-0e98933814d1",
   "metadata": {},
   "source": [
    "# Tasa de Atrasos por Dias de la Semana"
   ]
  },
  {
   "cell_type": "code",
   "execution_count": 18,
   "id": "c26ec68a-9391-4c07-b1c8-7967d55f36e6",
   "metadata": {},
   "outputs": [
    {
     "data": {
      "image/png": "[encoded data removed]",
      "text/plain": [
       "<Figure size 1008x432 with 1 Axes>"
      ]
     },
     "metadata": {
      "needs_background": "light"
     },
     "output_type": "display_data"
    }
   ],
   "source": [
    "dias_semana = ['Lunes', 'Martes', 'Miercoles', 'Jueves', 'Viernes', 'Sabado', 'Domingo']\n",
    "for j in range(7):\n",
    "    df_tasa_atraso_dia_semana.loc[df_tasa_atraso_dia_semana['dianom'] == dias_semana[j], 'id_dia'] = j+1\n",
    "df_tasa_atraso_dia_semana = df_tasa_atraso_dia_semana.sort_values(by='id_dia')\n",
    "\n",
    "graficas_tasas(df_tasa_atraso_dia_semana, 'dias de la semana')"
   ]
  },
  {
   "cell_type": "markdown",
   "id": "241a534e-3b3f-4375-a648-63ea0b0c8b07",
   "metadata": {},
   "source": [
    "# Tasa de Atrasos por Temporada Alta o Baja"
   ]
  },
  {
   "cell_type": "code",
   "execution_count": 19,
   "id": "4611f2fa-67bd-4861-b6f6-62e20ca37ca4",
   "metadata": {},
   "outputs": [
    {
     "data": {
      "image/png": "[encoded data removed]",
      "text/plain": [
       "<Figure size 1008x432 with 1 Axes>"
      ]
     },
     "metadata": {
      "needs_background": "light"
     },
     "output_type": "display_data"
    }
   ],
   "source": [
    "df_tasa_atraso_temporada.loc[df_tasa_atraso_temporada['temporada_alta'] == 1, 'tipo_temporada'] = 'Temporada alta'\n",
    "df_tasa_atraso_temporada.loc[df_tasa_atraso_temporada['temporada_alta'] == 0, 'tipo_temporada'] = 'Temporada baja'\n",
    "df_tasa_atraso_temporada = df_tasa_atraso_temporada[['tipo_temporada', 'tasas_atrasos_temporada', 'temporada_alta']]\n",
    "df_tasa_atraso_temporada\n",
    "graficas_tasas(df_tasa_atraso_temporada, 'temporadas')"
   ]
  },
  {
   "cell_type": "markdown",
   "id": "6094324a-3ad8-44c4-a7aa-eb9d9bef0b39",
   "metadata": {},
   "source": [
    "# Tasa de Atrasos por Tipos de Vuelos"
   ]
  },
  {
   "cell_type": "code",
   "execution_count": 20,
   "id": "07c2538a-645c-4865-9f76-7543597c0eae",
   "metadata": {},
   "outputs": [
    {
     "data": {
      "image/png": "[encoded data removed]",
      "text/plain": [
       "<Figure size 1008x432 with 1 Axes>"
      ]
     },
     "metadata": {
      "needs_background": "light"
     },
     "output_type": "display_data"
    }
   ],
   "source": [
    "df_tasa_atraso_tipo_vuelo.loc[df_tasa_atraso_tipo_vuelo['tipovuelo'] == 'I', 'nombre_tipovuelo'] = 'Internacional'\n",
    "df_tasa_atraso_tipo_vuelo.loc[df_tasa_atraso_tipo_vuelo['tipovuelo'] == 'N', 'nombre_tipovuelo'] = 'Nacional'\n",
    "df_tasa_atraso_tipo_vuelo = df_tasa_atraso_tipo_vuelo[['nombre_tipovuelo', 'tasas_atrasos_tipo_vuelo', 'tipovuelo']]\n",
    "graficas_tasas(df_tasa_atraso_tipo_vuelo, 'tipos de vuelo')"
   ]
  },
  {
   "cell_type": "markdown",
   "id": "455b6d96-e589-4af7-bc23-e44f97f75cb9",
   "metadata": {},
   "source": [
    "# ¿Qué variables esperarías que más influyeran en predecir atrasos?\n",
    "\n",
    "Las variables que esperaría que ayuden a predecir los atrasos de los vuelos son:\n",
    "\n",
    "<ol>\n",
    "<li> siglades ==>         destino </li>\n",
    "<li> opera ==>            aerolínea </li>\n",
    "<li> tipovuelo ==>        tipo de vuelo </li>\n",
    "</ol>\n",
    "\n",
    "debido a su variabilidad en las tasas de atrasos.\n",
    "\n",
    "Los meses del año se observa cierta variabilidad, pero los utizaria como filtro creando un modelo por cada mes del año, o bien por trimestre o semestral. "
   ]
  },
  {
   "cell_type": "markdown",
   "id": "681e42a8-ef9d-4d4d-b9ce-7617570e6634",
   "metadata": {},
   "source": [
    "# Entrena uno o varios modelos (usando el/los algoritmo(s) que prefieras) para estimar la probabilidad de atraso de un vuelo.\n",
    "<ul>\n",
    "<li> Siéntete libre de generar variables adicionales y/o complementar con variables externas.</ul>\n",
    "</ul>"
   ]
  },
  {
   "cell_type": "code",
   "execution_count": 21,
   "id": "b1e39f5a-ae80-4736-a3d5-4eb5c507afc3",
   "metadata": {},
   "outputs": [],
   "source": [
    "def creacion_columnas(df, nombre_variable: str):\n",
    "    arr = df[nombre_variable].drop_duplicates().reset_index(drop=True)\n",
    "    for i in range(len(arr)):\n",
    "        df.loc[df[nombre_variable] == arr[i], arr[i]] = 1\n",
    "        df[arr[i]] = df[arr[i]].fillna(0)\n",
    "    return(df)"
   ]
  },
  {
   "cell_type": "code",
   "execution_count": 22,
   "id": "50d17951-236e-459a-aec2-a6f10b90e12a",
   "metadata": {},
   "outputs": [
    {
     "data": {
      "text/html": [
       "<div>\n",
       "<style scoped>\n",
       "    .dataframe tbody tr th:only-of-type {\n",
       "        vertical-align: middle;\n",
       "    }\n",
       "\n",
       "    .dataframe tbody tr th {\n",
       "        vertical-align: top;\n",
       "    }\n",
       "\n",
       "    .dataframe thead th {\n",
       "        text-align: right;\n",
       "    }\n",
       "</style>\n",
       "<table border=\"1\" class=\"dataframe\">\n",
       "  <thead>\n",
       "    <tr style=\"text-align: right;\">\n",
       "      <th></th>\n",
       "      <th>periodo_dia</th>\n",
       "      <th>tasas_atrasos_periodo</th>\n",
       "    </tr>\n",
       "  </thead>\n",
       "  <tbody>\n",
       "    <tr>\n",
       "      <th>0</th>\n",
       "      <td>noche</td>\n",
       "      <td>0.20</td>\n",
       "    </tr>\n",
       "    <tr>\n",
       "      <th>1</th>\n",
       "      <td>tarde</td>\n",
       "      <td>0.20</td>\n",
       "    </tr>\n",
       "    <tr>\n",
       "      <th>2</th>\n",
       "      <td>mañana</td>\n",
       "      <td>0.16</td>\n",
       "    </tr>\n",
       "  </tbody>\n",
       "</table>\n",
       "</div>"
      ],
      "text/plain": [
       "  periodo_dia  tasas_atrasos_periodo\n",
       "0       noche                   0.20\n",
       "1       tarde                   0.20\n",
       "2      mañana                   0.16"
      ]
     },
     "execution_count": 22,
     "metadata": {},
     "output_type": "execute_result"
    }
   ],
   "source": [
    "# se calcula la tasa de atraso por periodo para observar su variabilidad, no se observa mayor variabilidad\n",
    "df_tasa_atraso_periodo = calculo_tasa_atrasos(df_latam, 'periodo_dia', 'atraso_15', 'tasas_atrasos_periodo')\n",
    "df_tasa_atraso_periodo"
   ]
  },
  {
   "cell_type": "code",
   "execution_count": 23,
   "id": "79f6f34b-bf35-4437-be2a-cf900d3bf4a6",
   "metadata": {},
   "outputs": [],
   "source": [
    "# se construyen las variables que ingresaran al modelo, se decide construir el modelo con los destinos, meses del año y tipo de vuelo, estas ingresaran como varaibles\n",
    "# binarias al modelo.\n",
    "nuevo_df_latam = creacion_columnas(nuevo_df_latam, 'siglades')\n",
    "#nuevo_df_latam = creacion_columnas(nuevo_df_latam, 'opera')\n",
    "#nuevo_df_latam = creacion_columnas(nuevo_df_latam, 'periodo_dia')\n",
    "#nuevo_df_latam = creacion_columnas(nuevo_df_latam, 'dianom')\n",
    "nuevo_df_latam = creacion_columnas(nuevo_df_latam, 'mes')\n",
    "\n",
    "nuevo_df_latam.loc[nuevo_df_latam['tipovuelo'] == 'I', 'tipo_vuelo'] = 1\n",
    "nuevo_df_latam['tipo_vuelo'] = nuevo_df_latam['tipo_vuelo'].fillna(0)"
   ]
  },
  {
   "cell_type": "code",
   "execution_count": 24,
   "id": "d444ded2-286d-4e2a-8bc5-5960c47ab9d4",
   "metadata": {},
   "outputs": [
    {
     "data": {
      "text/plain": [
       "(25228, 87)"
      ]
     },
     "execution_count": 24,
     "metadata": {},
     "output_type": "execute_result"
    }
   ],
   "source": [
    "# se balancean los datos, se toma la decision de sacar una muestra aleatoria de los ceros (no atraso), ya que se cree que la cantidad de 1 es suficientemente grande. \n",
    "df_cantidad_1 = nuevo_df_latam[nuevo_df_latam['atraso_15'] == 1]\n",
    "df_muestra_0 = nuevo_df_latam[nuevo_df_latam['atraso_15'] == 0].sample(n=df_cantidad_1.shape[0])\n",
    "df_latam_balanceado = df_cantidad_1.append(df_muestra_0, ignore_index=True).reset_index(drop=True)\n",
    "\n",
    "df_latam_balanceado.shape"
   ]
  },
  {
   "cell_type": "code",
   "execution_count": 25,
   "id": "ce60e938-db65-4270-8b12-896ec40388e1",
   "metadata": {},
   "outputs": [],
   "source": [
    "from sklearn.model_selection import train_test_split\n",
    "from sklearn.linear_model import LogisticRegression\n",
    "from sklearn.metrics import confusion_matrix\n",
    "from sklearn.metrics import precision_score\n",
    "from sklearn.metrics import accuracy_score\n",
    "from sklearn.metrics import recall_score\n",
    "from sklearn.metrics import roc_auc_score"
   ]
  },
  {
   "cell_type": "code",
   "execution_count": 27,
   "id": "1754e955-2712-484f-9a60-8072b378eae2",
   "metadata": {},
   "outputs": [
    {
     "name": "stdout",
     "output_type": "stream",
     "text": [
      "Precisión del modelo: 0.6026281208935611\n",
      "Exactitud del modelo: 0.6094596379970935\n",
      "Sensibilidad del modelo: 0.6135937918116136\n",
      "Curva ROC - AUC del modelo: 0.6095108833797107\n",
      "Matriz de Confusión:\n",
      "[[2320 1512]\n",
      " [1444 2293]]\n"
     ]
    }
   ],
   "source": [
    "X = df_latam_balanceado[df_latam_balanceado.columns[12:]].to_numpy()\n",
    "y = df_latam_balanceado['atraso_15']\n",
    "\n",
    "X_train, X_test, y_train, y_test = train_test_split(X, y, test_size=0.3)\n",
    "\n",
    "algoritmo = LogisticRegression()\n",
    "algoritmo.fit(X_train, y_train)\n",
    "\n",
    "y_pred = algoritmo.predict(X_test)\n",
    "\n",
    "matriz = confusion_matrix(y_test, y_pred)\n",
    "precision = precision_score(y_test, y_pred)\n",
    "exactitud = accuracy_score(y_test, y_pred)\n",
    "sensibilidad = recall_score(y_test, y_pred)\n",
    "roc_auc = roc_auc_score(y_test, y_pred)\n",
    "\n",
    "print('Precisión del modelo:', precision)\n",
    "print('Exactitud del modelo:', exactitud)\n",
    "print('Sensibilidad del modelo:', sensibilidad)\n",
    "print('Curva ROC - AUC del modelo:', roc_auc)\n",
    "print('Matriz de Confusión:')\n",
    "print(matriz)"
   ]
  },
  {
   "cell_type": "code",
   "execution_count": 28,
   "id": "a673e343-32fe-43c0-975b-92107e618593",
   "metadata": {},
   "outputs": [],
   "source": [
    "import math\n",
    "\n",
    "feature_names = df_latam_balanceado.columns[12:]\n",
    "feature_importance = pd.DataFrame(feature_names, columns = [\"feature\"])\n",
    "w0 = algoritmo.intercept_[0]\n",
    "w = algoritmo.coef_[0]\n",
    "\n",
    "feature_importance[\"importance\"] = pow(math.e, w)\n",
    "feature_importance = feature_importance.sort_values(by = [\"importance\"], ascending=False)"
   ]
  },
  {
   "cell_type": "code",
   "execution_count": 29,
   "id": "a0518009-2510-4314-99cd-ce4e863f441d",
   "metadata": {},
   "outputs": [
    {
     "data": {
      "text/html": [
       "<div>\n",
       "<style scoped>\n",
       "    .dataframe tbody tr th:only-of-type {\n",
       "        vertical-align: middle;\n",
       "    }\n",
       "\n",
       "    .dataframe tbody tr th {\n",
       "        vertical-align: top;\n",
       "    }\n",
       "\n",
       "    .dataframe thead th {\n",
       "        text-align: right;\n",
       "    }\n",
       "</style>\n",
       "<table border=\"1\" class=\"dataframe\">\n",
       "  <thead>\n",
       "    <tr style=\"text-align: right;\">\n",
       "      <th></th>\n",
       "      <th>feature</th>\n",
       "      <th>importance</th>\n",
       "    </tr>\n",
       "  </thead>\n",
       "  <tbody>\n",
       "    <tr>\n",
       "      <th>16</th>\n",
       "      <td>Sydney</td>\n",
       "      <td>4.492194</td>\n",
       "    </tr>\n",
       "    <tr>\n",
       "      <th>44</th>\n",
       "      <td>Auckland N.Z.</td>\n",
       "      <td>2.545558</td>\n",
       "    </tr>\n",
       "    <tr>\n",
       "      <th>42</th>\n",
       "      <td>Punta Cana</td>\n",
       "      <td>2.245861</td>\n",
       "    </tr>\n",
       "    <tr>\n",
       "      <th>54</th>\n",
       "      <td>Melbourne</td>\n",
       "      <td>2.082662</td>\n",
       "    </tr>\n",
       "    <tr>\n",
       "      <th>58</th>\n",
       "      <td>Ushuia</td>\n",
       "      <td>1.974185</td>\n",
       "    </tr>\n",
       "    <tr>\n",
       "      <th>68</th>\n",
       "      <td>7</td>\n",
       "      <td>1.952316</td>\n",
       "    </tr>\n",
       "    <tr>\n",
       "      <th>34</th>\n",
       "      <td>Cordoba</td>\n",
       "      <td>1.873185</td>\n",
       "    </tr>\n",
       "    <tr>\n",
       "      <th>55</th>\n",
       "      <td>San Juan, Arg.</td>\n",
       "      <td>1.783987</td>\n",
       "    </tr>\n",
       "    <tr>\n",
       "      <th>51</th>\n",
       "      <td>Rosario</td>\n",
       "      <td>1.765012</td>\n",
       "    </tr>\n",
       "    <tr>\n",
       "      <th>12</th>\n",
       "      <td>Rio de Janeiro</td>\n",
       "      <td>1.665027</td>\n",
       "    </tr>\n",
       "    <tr>\n",
       "      <th>45</th>\n",
       "      <td>Isla de Pascua</td>\n",
       "      <td>1.628571</td>\n",
       "    </tr>\n",
       "    <tr>\n",
       "      <th>73</th>\n",
       "      <td>12</td>\n",
       "      <td>1.602390</td>\n",
       "    </tr>\n",
       "    <tr>\n",
       "      <th>3</th>\n",
       "      <td>Toronto</td>\n",
       "      <td>1.561368</td>\n",
       "    </tr>\n",
       "    <tr>\n",
       "      <th>18</th>\n",
       "      <td>Asuncion</td>\n",
       "      <td>1.523192</td>\n",
       "    </tr>\n",
       "    <tr>\n",
       "      <th>43</th>\n",
       "      <td>Los Angeles</td>\n",
       "      <td>1.493975</td>\n",
       "    </tr>\n",
       "    <tr>\n",
       "      <th>37</th>\n",
       "      <td>Osorno</td>\n",
       "      <td>1.473646</td>\n",
       "    </tr>\n",
       "    <tr>\n",
       "      <th>2</th>\n",
       "      <td>Buenos Aires</td>\n",
       "      <td>1.465951</td>\n",
       "    </tr>\n",
       "    <tr>\n",
       "      <th>74</th>\n",
       "      <td>tipo_vuelo</td>\n",
       "      <td>1.425738</td>\n",
       "    </tr>\n",
       "    <tr>\n",
       "      <th>59</th>\n",
       "      <td>Puerto Stanley</td>\n",
       "      <td>1.422223</td>\n",
       "    </tr>\n",
       "    <tr>\n",
       "      <th>39</th>\n",
       "      <td>Nueva York</td>\n",
       "      <td>1.394900</td>\n",
       "    </tr>\n",
       "    <tr>\n",
       "      <th>6</th>\n",
       "      <td>Bogota</td>\n",
       "      <td>1.393950</td>\n",
       "    </tr>\n",
       "    <tr>\n",
       "      <th>49</th>\n",
       "      <td>Quito</td>\n",
       "      <td>1.384942</td>\n",
       "    </tr>\n",
       "    <tr>\n",
       "      <th>33</th>\n",
       "      <td>Mendoza</td>\n",
       "      <td>1.352771</td>\n",
       "    </tr>\n",
       "    <tr>\n",
       "      <th>61</th>\n",
       "      <td>Cochabamba</td>\n",
       "      <td>1.337390</td>\n",
       "    </tr>\n",
       "    <tr>\n",
       "      <th>71</th>\n",
       "      <td>10</td>\n",
       "      <td>1.313867</td>\n",
       "    </tr>\n",
       "    <tr>\n",
       "      <th>15</th>\n",
       "      <td>Lima</td>\n",
       "      <td>1.264871</td>\n",
       "    </tr>\n",
       "    <tr>\n",
       "      <th>11</th>\n",
       "      <td>Sao Paulo</td>\n",
       "      <td>1.198284</td>\n",
       "    </tr>\n",
       "    <tr>\n",
       "      <th>25</th>\n",
       "      <td>Valdivia</td>\n",
       "      <td>1.195748</td>\n",
       "    </tr>\n",
       "    <tr>\n",
       "      <th>40</th>\n",
       "      <td>Guayaquil</td>\n",
       "      <td>1.188095</td>\n",
       "    </tr>\n",
       "    <tr>\n",
       "      <th>47</th>\n",
       "      <td>Santa Cruz</td>\n",
       "      <td>1.155091</td>\n",
       "    </tr>\n",
       "    <tr>\n",
       "      <th>72</th>\n",
       "      <td>11</td>\n",
       "      <td>1.136266</td>\n",
       "    </tr>\n",
       "    <tr>\n",
       "      <th>53</th>\n",
       "      <td>Tucuman</td>\n",
       "      <td>1.095904</td>\n",
       "    </tr>\n",
       "    <tr>\n",
       "      <th>31</th>\n",
       "      <td>Iquique</td>\n",
       "      <td>1.095047</td>\n",
       "    </tr>\n",
       "    <tr>\n",
       "      <th>26</th>\n",
       "      <td>Concepcion</td>\n",
       "      <td>1.077386</td>\n",
       "    </tr>\n",
       "    <tr>\n",
       "      <th>20</th>\n",
       "      <td>Puerto Montt</td>\n",
       "      <td>1.045525</td>\n",
       "    </tr>\n",
       "    <tr>\n",
       "      <th>69</th>\n",
       "      <td>8</td>\n",
       "      <td>1.017590</td>\n",
       "    </tr>\n",
       "    <tr>\n",
       "      <th>0</th>\n",
       "      <td>Miami</td>\n",
       "      <td>1.017241</td>\n",
       "    </tr>\n",
       "    <tr>\n",
       "      <th>35</th>\n",
       "      <td>Montevideo</td>\n",
       "      <td>1.013518</td>\n",
       "    </tr>\n",
       "    <tr>\n",
       "      <th>52</th>\n",
       "      <td>Washington</td>\n",
       "      <td>1.000000</td>\n",
       "    </tr>\n",
       "    <tr>\n",
       "      <th>57</th>\n",
       "      <td>Pisco, Peru</td>\n",
       "      <td>1.000000</td>\n",
       "    </tr>\n",
       "    <tr>\n",
       "      <th>19</th>\n",
       "      <td>Cataratas Iguacu</td>\n",
       "      <td>1.000000</td>\n",
       "    </tr>\n",
       "    <tr>\n",
       "      <th>50</th>\n",
       "      <td>Bariloche</td>\n",
       "      <td>1.000000</td>\n",
       "    </tr>\n",
       "    <tr>\n",
       "      <th>27</th>\n",
       "      <td>La Serena</td>\n",
       "      <td>0.977802</td>\n",
       "    </tr>\n",
       "    <tr>\n",
       "      <th>23</th>\n",
       "      <td>Balmaceda</td>\n",
       "      <td>0.977278</td>\n",
       "    </tr>\n",
       "    <tr>\n",
       "      <th>24</th>\n",
       "      <td>Temuco</td>\n",
       "      <td>0.958034</td>\n",
       "    </tr>\n",
       "    <tr>\n",
       "      <th>30</th>\n",
       "      <td>Antofagasta</td>\n",
       "      <td>0.955027</td>\n",
       "    </tr>\n",
       "    <tr>\n",
       "      <th>28</th>\n",
       "      <td>Copiapo</td>\n",
       "      <td>0.948808</td>\n",
       "    </tr>\n",
       "    <tr>\n",
       "      <th>21</th>\n",
       "      <td>Punta Arenas</td>\n",
       "      <td>0.936669</td>\n",
       "    </tr>\n",
       "    <tr>\n",
       "      <th>70</th>\n",
       "      <td>9</td>\n",
       "      <td>0.931652</td>\n",
       "    </tr>\n",
       "    <tr>\n",
       "      <th>66</th>\n",
       "      <td>5</td>\n",
       "      <td>0.923883</td>\n",
       "    </tr>\n",
       "  </tbody>\n",
       "</table>\n",
       "</div>"
      ],
      "text/plain": [
       "             feature  importance\n",
       "16            Sydney    4.492194\n",
       "44     Auckland N.Z.    2.545558\n",
       "42        Punta Cana    2.245861\n",
       "54         Melbourne    2.082662\n",
       "58            Ushuia    1.974185\n",
       "68                 7    1.952316\n",
       "34           Cordoba    1.873185\n",
       "55    San Juan, Arg.    1.783987\n",
       "51           Rosario    1.765012\n",
       "12    Rio de Janeiro    1.665027\n",
       "45    Isla de Pascua    1.628571\n",
       "73                12    1.602390\n",
       "3            Toronto    1.561368\n",
       "18          Asuncion    1.523192\n",
       "43       Los Angeles    1.493975\n",
       "37            Osorno    1.473646\n",
       "2       Buenos Aires    1.465951\n",
       "74        tipo_vuelo    1.425738\n",
       "59    Puerto Stanley    1.422223\n",
       "39        Nueva York    1.394900\n",
       "6             Bogota    1.393950\n",
       "49             Quito    1.384942\n",
       "33           Mendoza    1.352771\n",
       "61        Cochabamba    1.337390\n",
       "71                10    1.313867\n",
       "15              Lima    1.264871\n",
       "11         Sao Paulo    1.198284\n",
       "25          Valdivia    1.195748\n",
       "40         Guayaquil    1.188095\n",
       "47        Santa Cruz    1.155091\n",
       "72                11    1.136266\n",
       "53           Tucuman    1.095904\n",
       "31           Iquique    1.095047\n",
       "26        Concepcion    1.077386\n",
       "20      Puerto Montt    1.045525\n",
       "69                 8    1.017590\n",
       "0              Miami    1.017241\n",
       "35        Montevideo    1.013518\n",
       "52        Washington    1.000000\n",
       "57       Pisco, Peru    1.000000\n",
       "19  Cataratas Iguacu    1.000000\n",
       "50         Bariloche    1.000000\n",
       "27         La Serena    0.977802\n",
       "23         Balmaceda    0.977278\n",
       "24            Temuco    0.958034\n",
       "30       Antofagasta    0.955027\n",
       "28           Copiapo    0.948808\n",
       "21      Punta Arenas    0.936669\n",
       "70                 9    0.931652\n",
       "66                 5    0.923883"
      ]
     },
     "execution_count": 29,
     "metadata": {},
     "output_type": "execute_result"
    }
   ],
   "source": [
    "# Se observan las 50 variables que tienen mas importancia en del modelo.\n",
    "feature_importance.head(50)"
   ]
  },
  {
   "cell_type": "code",
   "execution_count": 30,
   "id": "beee75d7-dec5-442e-9f11-491b008d0418",
   "metadata": {},
   "outputs": [
    {
     "name": "stdout",
     "output_type": "stream",
     "text": [
      "Eigenvalues:\n",
      "[3.05089089e-01 1.06886087e-01 1.02778846e-01 9.56957902e-02\n",
      " 9.48250716e-02 8.99722666e-02 8.55162242e-02 8.12203482e-02\n",
      " 7.78630397e-02 7.45043733e-02 7.30610885e-02 7.07344463e-02\n",
      " 7.01054105e-02 6.82409666e-02 6.45028315e-02 6.34340470e-02\n",
      " 5.87894439e-02 5.32277981e-02 4.61272341e-02 4.20512599e-02\n",
      " 3.53045004e-02 3.31874410e-02 3.00468010e-02 2.77225302e-02\n",
      " 2.57113482e-02 2.36552599e-02 2.28695395e-02 1.99203314e-02\n",
      " 1.76358952e-02 1.57851990e-02 1.43418771e-02 1.21781125e-02\n",
      " 9.79573770e-03 9.55066602e-03 7.64413359e-03 6.94572501e-03\n",
      " 6.63233262e-03 5.84336082e-03 5.31250209e-03 5.08722245e-03\n",
      " 4.67632324e-03 4.39549988e-03 4.13413652e-03 3.96018960e-03\n",
      " 3.71910340e-03 3.41979717e-03 3.24554882e-03 3.08071946e-03\n",
      " 2.95098909e-03 2.89283916e-03 2.74866479e-03 2.70016112e-03\n",
      " 2.62295824e-03 1.98135502e-03 1.30674878e-03 1.02242846e-03\n",
      " 9.29646602e-04 8.77326259e-04 7.31242329e-04 5.70757192e-04\n",
      " 5.24202038e-04 4.43908919e-04 1.62961344e-04 1.21974111e-04\n",
      " 8.31637310e-05 7.92624417e-05 4.31531670e-05 3.96246202e-05\n",
      " 3.96233572e-05 3.96190492e-05 1.88799952e-31 1.68969286e-31\n",
      " 5.04869207e-32 7.52953874e-33 2.04693503e-33]\n",
      "\n",
      "Variances (Percentage):\n",
      "[1.44363460e+01 5.05768506e+00 4.86333677e+00 4.52817746e+00\n",
      " 4.48697639e+00 4.25734913e+00 4.04649606e+00 3.84322183e+00\n",
      " 3.68435916e+00 3.52543223e+00 3.45713822e+00 3.34704509e+00\n",
      " 3.31728009e+00 3.22905747e+00 3.05217467e+00 3.00160144e+00\n",
      " 2.78182597e+00 2.51865745e+00 2.18266970e+00 1.98980087e+00\n",
      " 1.67055460e+00 1.57037861e+00 1.42176836e+00 1.31178745e+00\n",
      " 1.21662141e+00 1.11933048e+00 1.08215140e+00 9.42599410e-01\n",
      " 8.34503409e-01 7.46931311e-01 6.78635545e-01 5.76249535e-01\n",
      " 4.63519226e-01 4.51922811e-01 3.61708632e-01 3.28661014e-01\n",
      " 3.13831768e-01 2.76498837e-01 2.51379420e-01 2.40719534e-01\n",
      " 2.21276416e-01 2.07988287e-01 1.95620975e-01 1.87390075e-01\n",
      " 1.75982247e-01 1.61819537e-01 1.53574373e-01 1.45774901e-01\n",
      " 1.39636260e-01 1.36884695e-01 1.30062586e-01 1.27767467e-01\n",
      " 1.24114345e-01 9.37546691e-02 6.18333401e-02 4.83797404e-02\n",
      " 4.39894459e-02 4.15137278e-02 3.46012611e-02 2.70073516e-02\n",
      " 2.48044334e-02 2.10050866e-02 7.71107989e-03 5.77162715e-03\n",
      " 3.93517971e-03 3.75057670e-03 2.04194142e-03 1.87497602e-03\n",
      " 1.87491626e-03 1.87471241e-03 8.93372306e-30 7.99536648e-30\n",
      " 2.38896336e-30 3.56286180e-31 9.68578142e-32]\n",
      "\n"
     ]
    },
    {
     "data": {
      "text/plain": [
       "Text(0, 0.5, 'Explained variance (%)')"
      ]
     },
     "execution_count": 30,
     "metadata": {},
     "output_type": "execute_result"
    },
    {
     "data": {
      "image/png": "[encoded data removed]",
      "text/plain": [
       "<Figure size 432x288 with 1 Axes>"
      ]
     },
     "metadata": {
      "needs_background": "light"
     },
     "output_type": "display_data"
    }
   ],
   "source": [
    "# Se realiza un PCA para realizar una reducción de dimensionalidad, ya que puede que sean muchas variables.\n",
    "from sklearn.decomposition import PCA\n",
    "\n",
    "pca = PCA(n_components=None)\n",
    "pca.fit(X)\n",
    "\n",
    "# Get the eigenvalues\n",
    "print(\"Eigenvalues:\")\n",
    "print(pca.explained_variance_)\n",
    "print()\n",
    "\n",
    "# Get explained variances\n",
    "print(\"Variances (Percentage):\")\n",
    "print(pca.explained_variance_ratio_ * 100)\n",
    "print()\n",
    "\n",
    "# Make the scree plot\n",
    "plt.plot(np.cumsum(pca.explained_variance_ratio_ * 100))\n",
    "plt.xlabel(\"Number of components (Dimensions)\")\n",
    "plt.ylabel(\"Explained variance (%)\")"
   ]
  },
  {
   "cell_type": "code",
   "execution_count": 31,
   "id": "731da6df-a0ba-4545-b152-19e868d606e5",
   "metadata": {},
   "outputs": [],
   "source": [
    "# Se utilizan 19 componentes ya que aproximadamente con esos se captura el 80% de la variabilidad en los datos como se puede observar en el grafico.\n",
    "pca = PCA(n_components=19)\n",
    "X_pca = pca.fit_transform(X)\n",
    "df_X_pca = pd.DataFrame(X_pca)"
   ]
  },
  {
   "cell_type": "code",
   "execution_count": 33,
   "id": "6f1680c7-24ab-420d-97ef-b73b0d61cb99",
   "metadata": {},
   "outputs": [
    {
     "name": "stdout",
     "output_type": "stream",
     "text": [
      "Precisión del modelo: 0.5886974151039027\n",
      "Exactitud del modelo: 0.5977011494252874\n",
      "Sensibilidad del modelo: 0.6202937249666222\n",
      "Curva ROC - AUC del modelo: 0.5979345193870768\n",
      "Matriz de Confusión:\n",
      "[[2201 1623]\n",
      " [1422 2323]]\n"
     ]
    }
   ],
   "source": [
    "X_pca = df_X_pca.to_numpy()\n",
    "y = df_latam_balanceado['atraso_15']\n",
    "\n",
    "X_train_pca, X_test_pca, y_train, y_test = train_test_split(X_pca, y, test_size=0.3)\n",
    "\n",
    "algoritmo = LogisticRegression()\n",
    "algoritmo.fit(X_train_pca, y_train)\n",
    "\n",
    "y_pred = algoritmo.predict(X_test_pca)\n",
    "\n",
    "matriz = confusion_matrix(y_test, y_pred)\n",
    "precision = precision_score(y_test, y_pred)\n",
    "exactitud = accuracy_score(y_test, y_pred)\n",
    "sensibilidad = recall_score(y_test, y_pred)\n",
    "roc_auc = roc_auc_score(y_test, y_pred)\n",
    "\n",
    "print('Precisión del modelo:', precision)\n",
    "print('Exactitud del modelo:', exactitud)\n",
    "print('Sensibilidad del modelo:', sensibilidad)\n",
    "print('Curva ROC - AUC del modelo:', roc_auc)\n",
    "print('Matriz de Confusión:')\n",
    "print(matriz)"
   ]
  },
  {
   "cell_type": "markdown",
   "id": "7301ee5e-d313-4bce-b095-bd4dc03e98f3",
   "metadata": {},
   "source": [
    "# Evalúa tu modelo. \n",
    "<ul>\n",
    "<li> ¿Qué performance tiene?</li>\n",
    "La performance del modelo no es la esperada, las metricas para medir dieron resultados son bajas. La idea es poder tratar de hacer que la matriz de confusión tenga menos falsos positivos y negativos.\n",
    "\n",
    "<li>¿Qué métricas usaste para evaluar esa performance y por qué?</li>\n",
    "\n",
    "<li>¿Por qué elegiste ese algoritmo en particular?</li>\n",
    "Siento que es un modelo de clasificacion bastante robusto y se puede adecuar bastante bien a este tipo de problemas.\n",
    "    \n",
    "<li>¿Qué variables son las que más influyen en la predicción?</li>\n",
    "\n",
    "<li>¿Cómo podrías mejorar la performance?</li>\n",
    "Para mejorar el modelo se podría realizar una regularización lasso o ridge, crear otro tipo de variables como por ejemplo temporales, como mencione anteriomente, realizar un modelo por cada mes, otro tipo de balanceo de datos, realizar una limpieza de datos mas exhaustiva, entre otras cosas.\n",
    "</ul>"
   ]
  },
  {
   "cell_type": "code",
   "execution_count": null,
   "id": "62c23aff-1765-403a-8c26-e5f5e488f1d5",
   "metadata": {},
   "outputs": [],
   "source": []
  }
 ],
 "metadata": {
  "kernelspec": {
   "display_name": "Python 3",
   "language": "python",
   "name": "python3"
  },
  "language_info": {
   "codemirror_mode": {
    "name": "ipython",
    "version": 3
   },
   "file_extension": ".py",
   "mimetype": "text/x-python",
   "name": "python",
   "nbconvert_exporter": "python",
   "pygments_lexer": "ipython3",
   "version": "3.8.8"
  }
 },
 "nbformat": 4,
 "nbformat_minor": 5
}
